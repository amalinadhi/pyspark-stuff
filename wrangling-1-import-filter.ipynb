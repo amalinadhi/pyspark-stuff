{
 "cells": [
  {
   "cell_type": "code",
   "execution_count": 145,
   "id": "7f9ad644-9382-468b-9d07-90eb7c2a76ae",
   "metadata": {},
   "outputs": [],
   "source": [
    "import numpy as np\n",
    "from pyspark.sql import SparkSession"
   ]
  },
  {
   "cell_type": "code",
   "execution_count": 7,
   "id": "c7b38405-fb8f-4533-9e44-b35186497262",
   "metadata": {},
   "outputs": [],
   "source": [
    "spark = (SparkSession\n",
    "            .builder\n",
    "            .appName(\"Python Spark create RDD example\")\n",
    "            .config(\"spark.some.config.option\", \"some-value\")\n",
    "            .getOrCreate())"
   ]
  },
  {
   "cell_type": "markdown",
   "id": "1ce44573-5e95-4331-8e80-8ebf73020684",
   "metadata": {
    "jp-MarkdownHeadingCollapsed": true
   },
   "source": [
    "# 1. Concat Data"
   ]
  },
  {
   "cell_type": "code",
   "execution_count": 39,
   "id": "67e41888-3d55-4e1c-813a-16880b4dc4df",
   "metadata": {},
   "outputs": [],
   "source": [
    "# Buat menjadi fungsi\n",
    "def load_data(filename):\n",
    "    \"\"\"return spark dataframe\"\"\"\n",
    "    df = spark.read.csv(filenames[1],\n",
    "                        sep = ';',\n",
    "                        header=True, \n",
    "                        inferSchema=True)\n",
    "\n",
    "    return df\n",
    "\n",
    "def data_shape(data):\n",
    "    \"\"\"return the number of rows & cols\"\"\"\n",
    "    n_rows = data.count()\n",
    "    n_cols = len(data.columns)\n",
    "\n",
    "    return n_rows, n_cols\n",
    "\n",
    "def read_data(filenames):\n",
    "    \"\"\"return the concated data\"\"\"\n",
    "    # Read the first data\n",
    "    df = load_data(filenames[0])\n",
    "    print('Data shape:', data_shape(df))\n",
    "\n",
    "    # concat the rest data\n",
    "    for filename in filenames[1:]:\n",
    "        # read\n",
    "        df_i = load_data(filename)\n",
    "        print('Data shape:', data_shape(df_i))\n",
    "\n",
    "        # then join\n",
    "        df = df.union(df_i)\n",
    "\n",
    "    # Ekstrak hasil\n",
    "    print('Successfully read')\n",
    "    print('Data shape:', data_shape(df))\n",
    "\n",
    "    return df\n"
   ]
  },
  {
   "cell_type": "code",
   "execution_count": 40,
   "id": "bc8fe3bf-aa2f-463e-bc2c-0711b05f199d",
   "metadata": {},
   "outputs": [
    {
     "name": "stdout",
     "output_type": "stream",
     "text": [
      "Data shape: (328, 17)\n",
      "Data shape: (328, 17)\n",
      "Data shape: (328, 17)\n",
      "Successfully read\n",
      "Data shape: (984, 17)\n"
     ]
    }
   ],
   "source": [
    "filenames = [\n",
    "    'dataset/branch_B.csv',\n",
    "    'dataset/branch_C.csv',\n",
    "    'dataset/branch_D.csv'\n",
    "]\n",
    "\n",
    "final_df = read_data(filenames)"
   ]
  },
  {
   "cell_type": "code",
   "execution_count": 41,
   "id": "c86de742-c5d3-49ea-a9db-c79b90e74bc9",
   "metadata": {},
   "outputs": [
    {
     "name": "stdout",
     "output_type": "stream",
     "text": [
      "+-----------+------+---------+-------------+------+--------------------+----------+--------+-------+--------+---------+-------------------+-------+------+-----------------------+------------+------+\n",
      "| Invoice ID|Branch|     City|Customer type|Gender|        Product line|Unit price|Quantity| Tax 5%|   Total|     Date|               Time|Payment|  cogs|gross margin percentage|gross income|Rating|\n",
      "+-----------+------+---------+-------------+------+--------------------+----------+--------+-------+--------+---------+-------------------+-------+------+-----------------------+------------+------+\n",
      "|226-31-3081|     C|Naypyitaw|       Normal|Female|Electronic access...|     15.28|       5|   3.82|   80.22| 3/8/2019|2023-10-08 10:29:00|   Cash|  76.4|            4.761904762|        3.82|   9.6|\n",
      "|699-14-3026|     C|Naypyitaw|       Normal|  Male|Electronic access...|     85.39|       7|29.8865|627.6165|3/25/2019|2023-10-08 18:30:00|Ewallet|597.73|            4.761904762|     29.8865|   4.1|\n",
      "|315-22-5665|     C|Naypyitaw|       Normal|Female|  Home and lifestyle|     73.56|      10|  36.78|  772.38|2/24/2019|2023-10-08 11:38:00|Ewallet| 735.6|            4.761904762|       36.78|   8.0|\n",
      "|300-71-4605|     C|Naypyitaw|       Member|  Male|Electronic access...|     86.04|       5|  21.51|  451.71|2/25/2019|2023-10-08 11:24:00|Ewallet| 430.2|            4.761904762|       21.51|   4.8|\n",
      "|183-56-6882|     C|Naypyitaw|       Member|Female|  Food and beverages|     99.42|       4| 19.884| 417.564| 2/6/2019|2023-10-08 10:42:00|Ewallet|397.68|            4.761904762|      19.884|   7.5|\n",
      "|232-16-2483|     C|Naypyitaw|       Member|Female|   Sports and travel|     68.12|       1|  3.406|  71.526| 1/7/2019|2023-10-08 12:28:00|Ewallet| 68.12|            4.761904762|       3.406|   6.8|\n",
      "|333-73-7901|     C|Naypyitaw|       Normal|Female|   Health and beauty|     54.92|       8| 21.968| 461.328|3/23/2019|2023-10-08 13:24:00|Ewallet|439.36|            4.761904762|      21.968|   7.6|\n",
      "|554-53-8700|     C|Naypyitaw|       Member|  Male|  Home and lifestyle|     56.11|       2|  5.611| 117.831| 2/2/2019|2023-10-08 10:11:00|   Cash|112.22|            4.761904762|       5.611|   6.3|\n",
      "|228-96-1411|     C|Naypyitaw|       Member|Female|  Food and beverages|      98.7|       8|  39.48|  829.08| 3/4/2019|2023-10-08 20:39:00|   Cash| 789.6|            4.761904762|       39.48|   7.6|\n",
      "|617-15-4209|     C|Naypyitaw|       Member|  Male|   Health and beauty|     15.37|       2|  1.537|  32.277|3/16/2019|2023-10-08 19:47:00|   Cash| 30.74|            4.761904762|       1.537|   7.2|\n",
      "+-----------+------+---------+-------------+------+--------------------+----------+--------+-------+--------+---------+-------------------+-------+------+-----------------------+------------+------+\n",
      "only showing top 10 rows\n",
      "\n"
     ]
    }
   ],
   "source": [
    "final_df.show(10)"
   ]
  },
  {
   "cell_type": "markdown",
   "id": "90ccb85e-cf6f-4c06-9a0c-ef15fba8fa51",
   "metadata": {
    "jp-MarkdownHeadingCollapsed": true
   },
   "source": [
    "# 2. Get the Unwatched Movie"
   ]
  },
  {
   "cell_type": "code",
   "execution_count": 44,
   "id": "094dbb6f-66a8-47c4-9a0d-b469d4c34c46",
   "metadata": {},
   "outputs": [
    {
     "name": "stdout",
     "output_type": "stream",
     "text": [
      "Data shape: (100836, 4)\n",
      "+------+-------+------+---------+\n",
      "|userId|movieId|rating|timestamp|\n",
      "+------+-------+------+---------+\n",
      "|     1|      1|   4.0|964982703|\n",
      "|     1|      3|   4.0|964981247|\n",
      "|     1|      6|   4.0|964982224|\n",
      "|     1|     47|   5.0|964983815|\n",
      "|     1|     50|   5.0|964982931|\n",
      "+------+-------+------+---------+\n",
      "only showing top 5 rows\n",
      "\n"
     ]
    }
   ],
   "source": [
    "ratings = spark.read.csv('dataset/ratings.csv',\n",
    "                         header=True,\n",
    "                         inferSchema=True)\n",
    "\n",
    "print('Data shape:', data_shape(ratings))\n",
    "ratings.show(5)"
   ]
  },
  {
   "cell_type": "code",
   "execution_count": 45,
   "id": "9fc5a1ea-b977-4609-b8be-395e3b20a147",
   "metadata": {},
   "outputs": [
    {
     "name": "stdout",
     "output_type": "stream",
     "text": [
      "Data shape: (9742, 3)\n",
      "+-------+--------------------+--------------------+\n",
      "|movieId|               title|              genres|\n",
      "+-------+--------------------+--------------------+\n",
      "|      1|    Toy Story (1995)|Adventure|Animati...|\n",
      "|      2|      Jumanji (1995)|Adventure|Childre...|\n",
      "|      3|Grumpier Old Men ...|      Comedy|Romance|\n",
      "|      4|Waiting to Exhale...|Comedy|Drama|Romance|\n",
      "|      5|Father of the Bri...|              Comedy|\n",
      "+-------+--------------------+--------------------+\n",
      "only showing top 5 rows\n",
      "\n"
     ]
    }
   ],
   "source": [
    "movies = spark.read.csv('dataset/movies.csv',\n",
    "                        header=True,\n",
    "                        inferSchema=True)\n",
    "\n",
    "print('Data shape:', data_shape(movies))\n",
    "movies.show(5)"
   ]
  },
  {
   "cell_type": "code",
   "execution_count": 84,
   "id": "24ef9db8-f88b-488e-a2d1-a6c552309683",
   "metadata": {},
   "outputs": [],
   "source": [
    "def get_unwatched_movie(userId):\n",
    "    \"\"\"return unwatched movie id dataframe\"\"\"\n",
    "    # filter the movie watched by userId\n",
    "    ratings_user = ratings[ratings['userId']==userId]\n",
    "\n",
    "    # Then, extract the movieId watched by that user\n",
    "    watched_id = (ratings_user\n",
    "                     .select('movieId')\n",
    "                     .distinct()\n",
    "                     .toPandas()['movieId']\n",
    "                     .tolist())\n",
    "\n",
    "    # Finally, select from movie the unwatched movie\n",
    "    unwatched_movie = (movies\n",
    "                          .filter(~movies['movieId'].isin(watched_id))\n",
    "                          .select(['movieId', 'title', 'genres']))\n",
    "    \n",
    "    print('Data shape:', data_shape(unwatched_movie))\n",
    "    return unwatched_movie\n",
    "    "
   ]
  },
  {
   "cell_type": "code",
   "execution_count": 87,
   "id": "cc03ca64-8801-4c73-a2e5-0f1dc244338c",
   "metadata": {},
   "outputs": [
    {
     "name": "stdout",
     "output_type": "stream",
     "text": [
      "Data shape: (9402, 3)\n",
      "+-------+--------------------+--------------------+\n",
      "|movieId|               title|              genres|\n",
      "+-------+--------------------+--------------------+\n",
      "|      1|    Toy Story (1995)|Adventure|Animati...|\n",
      "|      2|      Jumanji (1995)|Adventure|Childre...|\n",
      "|      3|Grumpier Old Men ...|      Comedy|Romance|\n",
      "|      4|Waiting to Exhale...|Comedy|Drama|Romance|\n",
      "|      5|Father of the Bri...|              Comedy|\n",
      "+-------+--------------------+--------------------+\n",
      "only showing top 5 rows\n",
      "\n"
     ]
    }
   ],
   "source": [
    "unwatched_movie = get_unwatched_movie(userId = 313)\n",
    "unwatched_movie.show(5)"
   ]
  },
  {
   "cell_type": "markdown",
   "id": "7bb5146f-eaa5-4d96-85df-d06bd091d8bd",
   "metadata": {
    "jp-MarkdownHeadingCollapsed": true
   },
   "source": [
    "# 3. Get The House Recommendation"
   ]
  },
  {
   "cell_type": "code",
   "execution_count": 88,
   "id": "bdb0237e-7ef3-4df4-a076-7e0528ee78e1",
   "metadata": {},
   "outputs": [
    {
     "name": "stdout",
     "output_type": "stream",
     "text": [
      "Data shape: (3725, 16)\n",
      "+--------------------+-------------+--------------------+-------------+-----------+-------+------------------+------------------+--------+---------+-----+--------------+--------+------+------------+------------------------+\n",
      "|            ads_name|property_type|      apartment_name|         area|     region|   city|          latitude|         longitude|bedrooms|bathrooms| size|  is_furnished|capacity|rating|yearly_price|property_management_type|\n",
      "+--------------------+-------------+--------------------+-------------+-----------+-------+------------------+------------------+--------+---------+-----+--------------+--------+------+------------+------------------------+\n",
      "|Cozy 1BR at Green...|    apartment|Apartemen Green C...|       Glodok|DKI Jakarta|Jakarta|-6.147707145070255|106.81552469730377|       1|        1| 41.0|Full Furnished|       2|  NULL|    40717500|                     TPM|\n",
      "|Gading Nias Resid...|    apartment|Apartemen Gading ...|Kelapa Gading|DKI Jakarta|Jakarta|-6.153782044208278|106.91722869873047|       1|        1| 29.0|Full Furnished|       2|   4.9|    23580000|                     TPM|\n",
      "|Modern and Comfy ...|    apartment|Apartemen The Man...|    Kemayoran|DKI Jakarta|Jakarta|-6.148443176931242|106.85455620288849|       1|        1| 33.0|Full Furnished|       2|   5.0|    50000000|                     TPM|\n",
      "|Fancy and Nice St...|    apartment|Apartemen Citra L...|    Kalideres|DKI Jakarta|Jakarta|-6.146017734755382|106.70166358351707|  Studio|        1|22.61|Full Furnished|       1|  NULL|    40000000|                     TPM|\n",
      "|Studio Room at Wa...|    apartment|Guest House Way S...|Tanjung Duren|DKI Jakarta|Jakarta|         -6.181856|        106.788532|  Studio|        1| 15.0|Full Furnished|       2|   5.0|    25602488|                     TPM|\n",
      "+--------------------+-------------+--------------------+-------------+-----------+-------+------------------+------------------+--------+---------+-----+--------------+--------+------+------------+------------------------+\n",
      "only showing top 5 rows\n",
      "\n"
     ]
    }
   ],
   "source": [
    "houses = spark.read.csv('dataset/travelio_dki_jakarta.csv',\n",
    "                        header = True,\n",
    "                        inferSchema = True)\n",
    "\n",
    "print('Data shape:', data_shape(houses))\n",
    "houses.show(5)"
   ]
  },
  {
   "cell_type": "code",
   "execution_count": 306,
   "id": "dd0a6576-8449-49ca-b1c3-1dd0afce5fde",
   "metadata": {},
   "outputs": [],
   "source": [
    "import math\n",
    "from pyspark.sql.types import DoubleType\n",
    "from pyspark.sql.functions import udf, lit\n",
    "\n",
    "def get_filtered_data(filter_id, filter_value, data):\n",
    "    \"\"\"return filtered data\"\"\"\n",
    "    # Get the condition\n",
    "    if filter_value is None:\n",
    "        filter_cond = None\n",
    "    else:\n",
    "        if filter_id in ['property_type', 'is_furnished']:\n",
    "            filter_cond = data[filter_id] == filter_value\n",
    "        elif filter_id in ['size', 'capacity']:\n",
    "            filter_cond = data[filter_id] >= filter_value\n",
    "        else:\n",
    "            filter_cond = data[filter_id] <= filter_value\n",
    "\n",
    "    # Filter the data\n",
    "    if filter_cond is None:\n",
    "        return data\n",
    "    else:\n",
    "        return data.filter(filter_cond)\n",
    "\n",
    "def get_preferenced_data(user_config, data):\n",
    "    \"\"\"return the preferenced data\"\"\"\n",
    "    # Get the preferences\n",
    "    preferences = user_config['preferences']\n",
    "\n",
    "    # loop for all filter condition\n",
    "    for filter_id, filter_value in preferences.items():\n",
    "        print('Filtering on:', filter_id)\n",
    "\n",
    "        # Get the filtered data\n",
    "        data = get_filtered_data(filter_id, filter_value, data)\n",
    "        print('Done! Data shape:', data_shape(data))\n",
    "        print('')\n",
    "\n",
    "    # Return data\n",
    "    print('Final Data Shape:', data_shape(data))\n",
    "    return data\n",
    "\n",
    "def calculate_haversine_distance(lat1, lon1, lat2, lon2):\n",
    "    \"\"\"return the haversine distance\"\"\"\n",
    "    # First, convert the coordinate to radian\n",
    "    lat1, lon1, lat2, lon2 = map(math.radians, [lat1, lon1, lat2, lon2])\n",
    "    \n",
    "    # Apply the function\n",
    "    delta_lon = lon2 - lon1\n",
    "    delta_lat = lat2 - lat1\n",
    "    haver_formula = math.sin(delta_lat/2.0)**2 \\\n",
    "                    + math.cos(lat1) * math.cos(lat2) * math.sin(delta_lon/2.0)**2\n",
    "    dist = 2 * 6356.752 * math.asin(math.sqrt(haver_formula))\n",
    "    return round(dist, 4)\n",
    "    \n",
    "distance_cols = udf(calculate_haversine_distance, DoubleType())\n",
    "\n",
    "def get_user_recommendation(n, user_config):\n",
    "    \"\"\"get user recommendation\"\"\"\n",
    "    # Pertama, baca dulu dataframenya\n",
    "    houses = spark.read.csv('dataset/travelio_dki_jakarta.csv',\n",
    "                            header = True,\n",
    "                            inferSchema = True)\n",
    "\n",
    "    # Cari preferenced houses\n",
    "    preferenced_houses = get_preferenced_data(user_config, houses)\n",
    "\n",
    "    # Buat data distance\n",
    "    print('')\n",
    "    print('Sort the data based on user distance')\n",
    "    preferenced_houses = (preferenced_houses\n",
    "                            .withColumn('lat_user', lit(user_config['location']['latitude']))\n",
    "                            .withColumn('lon_user', lit(user_config['location']['longitude'])))\n",
    "\n",
    "    preferenced_houses = (preferenced_houses\n",
    "                            .withColumn('distance', distance_cols(preferenced_houses['latitude'],\n",
    "                                                                  preferenced_houses['longitude'],\n",
    "                                                                  preferenced_houses['lat_user'],\n",
    "                                                                  preferenced_houses['lon_user'])))\n",
    "\n",
    "    # Cari rekomendasi\n",
    "    final_houses = (preferenced_houses\n",
    "                        .sort(['distance'], ascending=[True])\n",
    "                        .drop(*['lat_user', 'lon_user'])\n",
    "                        .limit(n))\n",
    "\n",
    "    print('Done! Final data shape:', data_shape(final_houses))\n",
    "    return final_houses\n",
    "    "
   ]
  },
  {
   "cell_type": "code",
   "execution_count": 308,
   "id": "a6498827-2d6a-4643-ac59-0a15cd3f4e8b",
   "metadata": {},
   "outputs": [
    {
     "name": "stdout",
     "output_type": "stream",
     "text": [
      "Filtering on: property_type\n",
      "Done! Data shape: (3725, 16)\n",
      "\n",
      "Filtering on: size\n",
      "Done! Data shape: (1232, 16)\n",
      "\n",
      "Filtering on: capacity\n",
      "Done! Data shape: (809, 16)\n",
      "\n",
      "Filtering on: is_furnished\n",
      "Done! Data shape: (809, 16)\n",
      "\n",
      "Filtering on: yearly_price\n",
      "Done! Data shape: (10, 16)\n",
      "\n",
      "Final Data Shape: (10, 16)\n",
      "\n",
      "Sort the data based on user distance\n",
      "Done! Final data shape: (10, 17)\n",
      "+--------------------+-------------+--------------------+-------------------+-----------+-------+-------------------+------------------+--------+---------+-----+--------------+--------+------+------------+------------------------+--------+\n",
      "|            ads_name|property_type|      apartment_name|               area|     region|   city|           latitude|         longitude|bedrooms|bathrooms| size|  is_furnished|capacity|rating|yearly_price|property_management_type|distance|\n",
      "+--------------------+-------------+--------------------+-------------------+-----------+-------+-------------------+------------------+--------+---------+-----+--------------+--------+------+------------+------------------------+--------+\n",
      "|Unfurnished 2BR a...|    apartment|Apartemen Gading ...|      Kelapa Gading|DKI Jakarta|Jakarta| -6.147627141545745|106.91625773906708|       2|        1|48.37|   Unfurnished|       4|   5.0|    25000000|                  REALTY| 10.5021|\n",
      "|2BR Unfurnished A...|    apartment|Apartemen Gading ...|      Kelapa Gading|DKI Jakarta|Jakarta| -6.147629808330085| 106.9162617623806|       2|        1|48.37|   Unfurnished|       4|  NULL|    22999999|                  REALTY| 10.5024|\n",
      "|Unfurnished 2BR H...|        house|                NULL|Halim Perdanakusuma|DKI Jakarta|Jakarta| -6.266901014589053|106.87773081349185|       2|        2| 90.0|   Unfurnished|       4|  NULL|    25000000|                  REALTY| 11.2517|\n",
      "|Strategic 3BR Hou...|        house|                NULL|      Jakarta Utara|DKI Jakarta|Jakarta|          -6.116879|         106.92753|       3|        3|108.0|Full Furnished|       6|  NULL|    24000000|                  REALTY| 13.1151|\n",
      "|Unfurnished 4BR H...|        house|                NULL|      Jakarta Utara|DKI Jakarta|Jakarta|          -6.106318|        106.920193|       4|        1| 93.0|   Unfurnished|       9|  NULL|    22000000|                  REALTY| 13.1225|\n",
      "|Unfurnished 2BR a...|    apartment|Apartemen Paradis...|          Kalideres|DKI Jakarta|Jakarta|  -6.13152985450916| 106.7027984932065|       2|        1|45.98|   Unfurnished|       4|  NULL|    21000000|                  REALTY| 14.6342|\n",
      "|Unfurnished 2BR H...|        house|                NULL|      Jakarta Utara|DKI Jakarta|Jakarta|          -6.137113|        106.956038|       2|        1| 60.0|   Unfurnished|       4|  NULL|    23000000|                  REALTY| 15.0324|\n",
      "|Unfurnished 2BR H...|        house|                NULL|          Kebagusan|DKI Jakarta|Jakarta| -6.318912777233979|106.82515901400579|       2|        1| 70.0|   Unfurnished|       4|  NULL|    25000000|                  REALTY| 15.5013|\n",
      "|Unfurnished 2BR H...|        house|                NULL|         Pasar Rebo|DKI Jakarta|Jakarta|          -6.332795|        106.865617|       2|        2|100.0|   Unfurnished|       4|  NULL|    24000000|                  REALTY| 17.5784|\n",
      "|Combined and Spac...|    apartment|Apartemen Tokyo R...|              PIK 2|DKI Jakarta|Jakarta|-6.0424281578319485|106.69224500656128|       3|        2| 57.0|   Unfurnished|       6|  NULL|    23000000|                  REALTY|  21.204|\n",
      "+--------------------+-------------+--------------------+-------------------+-----------+-------+-------------------+------------------+--------+---------+-----+--------------+--------+------+------------+------------------------+--------+\n",
      "\n"
     ]
    }
   ],
   "source": [
    "# Define the user data\n",
    "user_config = {\n",
    "    'preferences': {\n",
    "        'property_type': None,\n",
    "        'size': 45.0,\n",
    "        'capacity': 4,\n",
    "        'is_furnished': None,\n",
    "        'yearly_price': 25000000\n",
    "    },\n",
    "    'location': {\n",
    "        # Dekat Monumen Nasional (Monas)\n",
    "        'latitude': -6.1792,\n",
    "        'longitude': 106.8265\n",
    "    }\n",
    "}\n",
    "\n",
    "final_houses = get_user_recommendation(n=10, user_config=user_config)\n",
    "final_houses.show()"
   ]
  },
  {
   "cell_type": "code",
   "execution_count": 309,
   "id": "88dcbf8b-78ff-4d72-9065-84f6b3676ff7",
   "metadata": {},
   "outputs": [
    {
     "name": "stdout",
     "output_type": "stream",
     "text": [
      "Filtering on: property_type\n",
      "Done! Data shape: (3725, 16)\n",
      "\n",
      "Filtering on: size\n",
      "Done! Data shape: (869, 16)\n",
      "\n",
      "Filtering on: capacity\n",
      "Done! Data shape: (664, 16)\n",
      "\n",
      "Filtering on: is_furnished\n",
      "Done! Data shape: (664, 16)\n",
      "\n",
      "Filtering on: yearly_price\n",
      "Done! Data shape: (6, 16)\n",
      "\n",
      "Final Data Shape: (6, 16)\n",
      "\n",
      "Sort the data based on user distance\n",
      "Done! Final data shape: (6, 17)\n",
      "+--------------------+-------------+--------------+-------------------+-----------+-------+------------------+------------------+--------+---------+-----+--------------+--------+------+------------+------------------------+--------+\n",
      "|            ads_name|property_type|apartment_name|               area|     region|   city|          latitude|         longitude|bedrooms|bathrooms| size|  is_furnished|capacity|rating|yearly_price|property_management_type|distance|\n",
      "+--------------------+-------------+--------------+-------------------+-----------+-------+------------------+------------------+--------+---------+-----+--------------+--------+------+------------+------------------------+--------+\n",
      "|Unfurnished 4BR H...|        house|          NULL|      Jakarta Utara|DKI Jakarta|Jakarta|         -6.106318|        106.920193|       4|        1| 93.0|   Unfurnished|       9|  NULL|    22000000|                  REALTY| 12.1819|\n",
      "|Strategic 3BR Hou...|        house|          NULL|      Jakarta Utara|DKI Jakarta|Jakarta|         -6.116879|         106.92753|       3|        3|108.0|Full Furnished|       6|  NULL|    24000000|                  REALTY| 12.6937|\n",
      "|Unfurnished 2BR H...|        house|          NULL|      Jakarta Utara|DKI Jakarta|Jakarta|         -6.137113|        106.956038|       2|        1| 60.0|   Unfurnished|       4|  NULL|    23000000|                  REALTY| 15.6243|\n",
      "|Unfurnished 2BR H...|        house|          NULL|Halim Perdanakusuma|DKI Jakarta|Jakarta|-6.266901014589053|106.87773081349185|       2|        2| 90.0|   Unfurnished|       4|  NULL|    25000000|                  REALTY| 15.9358|\n",
      "|Unfurnished 2BR H...|        house|          NULL|          Kebagusan|DKI Jakarta|Jakarta|-6.318912777233979|106.82515901400579|       2|        1| 70.0|   Unfurnished|       4|  NULL|    25000000|                  REALTY| 20.1288|\n",
      "|Unfurnished 2BR H...|        house|          NULL|         Pasar Rebo|DKI Jakarta|Jakarta|         -6.332795|        106.865617|       2|        2|100.0|   Unfurnished|       4|  NULL|    24000000|                  REALTY| 22.3593|\n",
      "+--------------------+-------------+--------------+-------------------+-----------+-------+------------------+------------------+--------+---------+-----+--------------+--------+------+------------+------------------------+--------+\n",
      "\n"
     ]
    }
   ],
   "source": [
    "# Define the user data\n",
    "user_config = {\n",
    "    'preferences': {\n",
    "        'property_type': None,\n",
    "        'size': 60.0,\n",
    "        'capacity': 4,\n",
    "        'is_furnished': None,\n",
    "        'yearly_price': 25000000\n",
    "    },\n",
    "    'location': {\n",
    "        # Dekat Kota Tua Jakarta\n",
    "        'latitude': -6.1378,\n",
    "        'longitude': 106.8144\n",
    "    }\n",
    "}\n",
    "\n",
    "final_houses = get_user_recommendation(n=10, user_config=user_config)\n",
    "final_houses.show()"
   ]
  },
  {
   "cell_type": "markdown",
   "id": "4ce7b239-8023-4ee6-a973-dfc925cc51a3",
   "metadata": {
    "jp-MarkdownHeadingCollapsed": true
   },
   "source": [
    "# 4. Export the Promising State"
   ]
  },
  {
   "cell_type": "code",
   "execution_count": 310,
   "id": "5d9fea92-46da-44a0-90d0-d6d19ce92967",
   "metadata": {},
   "outputs": [
    {
     "name": "stdout",
     "output_type": "stream",
     "text": [
      "Data shape: (128975, 24)\n",
      "+-----+-------------------+--------+--------------------+----------+--------------+------------------+--------+-------------------+-------------+----+----------+--------------+---+--------+------+-----------+--------------+----------------+------------+--------------------+-----+------------+-----------+\n",
      "|index|           Order ID|    Date|              Status|Fulfilment|Sales Channel |ship-service-level|   Style|                SKU|     Category|Size|      ASIN|Courier Status|Qty|currency|Amount|  ship-city|    ship-state|ship-postal-code|ship-country|       promotion-ids|  B2B|fulfilled-by|Unnamed: 22|\n",
      "+-----+-------------------+--------+--------------------+----------+--------------+------------------+--------+-------------------+-------------+----+----------+--------------+---+--------+------+-----------+--------------+----------------+------------+--------------------+-----+------------+-----------+\n",
      "|    0|405-8078784-5731545|04-30-22|           Cancelled|  Merchant|     Amazon.in|          Standard|  SET389|     SET389-KR-NP-S|          Set|   S|B09KXVBD7Z|          NULL|  0|     INR|647.62|     MUMBAI|   MAHARASHTRA|        400081.0|          IN|                NULL|false|   Easy Ship|       NULL|\n",
      "|    1|171-9198151-1101146|04-30-22|Shipped - Deliver...|  Merchant|     Amazon.in|          Standard| JNE3781|    JNE3781-KR-XXXL|        kurta| 3XL|B09K3WFS32|       Shipped|  1|     INR| 406.0|  BENGALURU|     KARNATAKA|        560085.0|          IN|Amazon PLCC Free-...|false|   Easy Ship|       NULL|\n",
      "|    2|404-0687676-7273146|04-30-22|             Shipped|    Amazon|     Amazon.in|         Expedited| JNE3371|      JNE3371-KR-XL|        kurta|  XL|B07WV4JV4D|       Shipped|  1|     INR| 329.0|NAVI MUMBAI|   MAHARASHTRA|        410210.0|          IN|IN Core Free Ship...| true|        NULL|       NULL|\n",
      "|    3|403-9615377-8133951|04-30-22|           Cancelled|  Merchant|     Amazon.in|          Standard|   J0341|         J0341-DR-L|Western Dress|   L|B099NRCT7B|          NULL|  0|     INR|753.33| PUDUCHERRY|    PUDUCHERRY|        605008.0|          IN|                NULL|false|   Easy Ship|       NULL|\n",
      "|    4|407-1069790-7240320|04-30-22|             Shipped|    Amazon|     Amazon.in|         Expedited| JNE3671|    JNE3671-TU-XXXL|          Top| 3XL|B098714BZP|       Shipped|  1|     INR| 574.0|    CHENNAI|    TAMIL NADU|        600073.0|          IN|                NULL|false|        NULL|       NULL|\n",
      "|    5|404-1490984-4578765|04-30-22|             Shipped|    Amazon|     Amazon.in|         Expedited|  SET264|    SET264-KR-NP-XL|          Set|  XL|B08YN7XDSG|       Shipped|  1|     INR| 824.0|  GHAZIABAD| UTTAR PRADESH|        201102.0|          IN|IN Core Free Ship...|false|        NULL|       NULL|\n",
      "|    6|408-5748499-6859555|04-30-22|             Shipped|    Amazon|     Amazon.in|         Expedited|   J0095|        J0095-SET-L|          Set|   L|B08CMHNWBN|       Shipped|  1|     INR| 653.0| CHANDIGARH|    CHANDIGARH|        160036.0|          IN|IN Core Free Ship...|false|        NULL|       NULL|\n",
      "|    7|406-7807733-3785945|04-30-22|Shipped - Deliver...|  Merchant|     Amazon.in|          Standard| JNE3405|       JNE3405-KR-S|        kurta|   S|B081WX4G4Q|       Shipped|  1|     INR| 399.0|  HYDERABAD|     TELANGANA|        500032.0|          IN|Amazon PLCC Free-...|false|   Easy Ship|       NULL|\n",
      "|    8|407-5443024-5233168|04-30-22|           Cancelled|    Amazon|     Amazon.in|         Expedited|  SET200|SET200-KR-NP-A-XXXL|          Set| 3XL|B08L91ZZXN|     Cancelled|  0|    NULL|  NULL|  HYDERABAD|     TELANGANA|        500008.0|          IN|IN Core Free Ship...|false|        NULL|       NULL|\n",
      "|    9|402-4393761-0311520|04-30-22|             Shipped|    Amazon|     Amazon.in|         Expedited| JNE3461|     JNE3461-KR-XXL|        kurta| XXL|B08B3XF5MH|       Shipped|  1|     INR| 363.0|    Chennai|    TAMIL NADU|        600041.0|          IN|                NULL|false|        NULL|       NULL|\n",
      "|   10|407-5633625-6970741|04-30-22|             Shipped|    Amazon|     Amazon.in|         Expedited| JNE3160|     JNE3160-KR-G-S|        kurta|   S|B07K3YQLF1|       Shipped|  1|     INR| 685.0|    CHENNAI|    TAMIL NADU|        600073.0|          IN|                NULL|false|        NULL|       NULL|\n",
      "|   11|171-4638481-6326716|04-30-22|             Shipped|    Amazon|     Amazon.in|         Expedited| JNE3500|      JNE3500-KR-XS|        kurta|  XS|B098117DJ3|       Shipped|  1|     INR| 364.0|      NOIDA| UTTAR PRADESH|        201303.0|          IN|                NULL|false|        NULL|       NULL|\n",
      "|   12|405-5513694-8146768|04-30-22|Shipped - Deliver...|  Merchant|     Amazon.in|          Standard| JNE3405|      JNE3405-KR-XS|        kurta|  XS|B081XCMYXJ|       Shipped|  1|     INR| 399.0|  Amravati.|   MAHARASHTRA|        444606.0|          IN|Amazon PLCC Free-...|false|   Easy Ship|       NULL|\n",
      "|   13|408-7955685-3083534|04-30-22|             Shipped|    Amazon|     Amazon.in|         Expedited|  SET182|    SET182-KR-DH-XS|          Set|  XS|B085HS947T|       Shipped|  1|     INR| 657.0|     MUMBAI|   MAHARASHTRA|        400053.0|          IN|                NULL|false|        NULL|       NULL|\n",
      "|   14|408-1298370-1920302|04-30-22|Shipped - Deliver...|  Merchant|     Amazon.in|          Standard|   J0351|        J0351-SET-L|          Set|   L|B09CSSQY4F|       Shipped|  1|     INR| 771.0|     MUMBAI|   MAHARASHTRA|        400053.0|          IN|Amazon PLCC Free-...|false|   Easy Ship|       NULL|\n",
      "|   15|403-4965581-9520319|04-30-22|Shipped - Deliver...|  Merchant|     Amazon.in|          Standard|PJNE3368|    PJNE3368-KR-6XL|        kurta| 6XL|B09PY99SVJ|       Shipped|  1|     INR| 544.0|   GUNTAKAL|ANDHRA PRADESH|        515801.0|          IN|Amazon PLCC Free-...|false|   Easy Ship|       NULL|\n",
      "|   16|406-9379318-6555504|04-30-22|             Shipped|    Amazon|     Amazon.in|         Expedited| JNE3721|     JNE3721-KR-XXL|        kurta| XXL|B099FCT65D|       Shipped|  1|     INR| 329.0|     JAIPUR|     RAJASTHAN|        302020.0|          IN|IN Core Free Ship...|false|        NULL|       NULL|\n",
      "|   17|405-9013803-8009918|04-30-22|             Shipped|    Amazon|     Amazon.in|         Expedited| JNE3405|      JNE3405-KR-XL|        kurta|  XL|B081WT6GG7|       Shipped|  1|     INR| 399.0|  NEW DELHI|         DELHI|        110074.0|          IN|                NULL|false|        NULL|       NULL|\n",
      "|   18|402-4030358-5835511|04-30-22|Shipped - Deliver...|  Merchant|     Amazon.in|          Standard| JNE3697|     JNE3697-KR-XXL|        kurta| XXL|B098133PV5|       Shipped|  1|     INR| 458.0|    Gurgaon|       HARYANA|        122004.0|          IN|Amazon PLCC Free-...|false|   Easy Ship|       NULL|\n",
      "|   19|405-5957858-1051546|04-30-22|             Shipped|    Amazon|     Amazon.in|         Expedited|  SET254|    SET254-KR-NP-XS|          Set|  XS|B0983DDPL6|       Shipped|  1|     INR| 886.0|  BENGALURU|     KARNATAKA|        560017.0|          IN|                NULL|false|        NULL|       NULL|\n",
      "+-----+-------------------+--------+--------------------+----------+--------------+------------------+--------+-------------------+-------------+----+----------+--------------+---+--------+------+-----------+--------------+----------------+------------+--------------------+-----+------------+-----------+\n",
      "only showing top 20 rows\n",
      "\n"
     ]
    }
   ],
   "source": [
    "sales = spark.read.csv('dataset/Amazon Sale Report.csv',\n",
    "                       header = True,\n",
    "                       inferSchema = True)\n",
    "\n",
    "print('Data shape:', data_shape(sales))\n",
    "sales.show()"
   ]
  },
  {
   "cell_type": "code",
   "execution_count": 316,
   "id": "0e11806f-9cc0-4cdc-b473-34d06ef2f63c",
   "metadata": {},
   "outputs": [],
   "source": [
    "(sales.limit(10).write\n",
    "    .option('header', 'true')\n",
    "    .csv('/dataset_final'))"
   ]
  }
 ],
 "metadata": {
  "kernelspec": {
   "display_name": "Python 3 (ipykernel)",
   "language": "python",
   "name": "python3"
  },
  "language_info": {
   "codemirror_mode": {
    "name": "ipython",
    "version": 3
   },
   "file_extension": ".py",
   "mimetype": "text/x-python",
   "name": "python",
   "nbconvert_exporter": "python",
   "pygments_lexer": "ipython3",
   "version": "3.11.5"
  }
 },
 "nbformat": 4,
 "nbformat_minor": 5
}
